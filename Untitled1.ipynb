{
 "cells": [
  {
   "cell_type": "code",
   "execution_count": null,
   "metadata": {},
   "outputs": [],
   "source": [
    "gme_revenue=pd.DataFrame(columns=[\"Date\",\"Revenue\"]) #create dataframe\n",
    "\n",
    "for table in html_data.find_all('table', attrs={'class':'historical_data_table table'}):\n",
    "\n",
    "    if table.find('th').getText().startswith(\"GameStop Quarterly Revenue\"):\n",
    "\n",
    "         for row in table.find(\"tbody\").find_all(\"tr\"):\n",
    "\n",
    "            col=row.find_all(\"td\")\n",
    "\n",
    "            date=col[0].text\n",
    "\n",
    "            revenue=col[1].text.replace(\"\", \"\").replace(\"\", \"\")\n",
    "\n",
    "            print(col)\n",
    "\n",
    "            gme_revenue=gme_revenue.append({\"Date\":date,\"Revenue\":revenue}, ignore_index=True)\n",
    "\n",
    "gme_revenue.head(5)"
   ]
  }
 ],
 "metadata": {
  "kernelspec": {
   "display_name": "Python 3",
   "language": "python",
   "name": "python3"
  },
  "language_info": {
   "codemirror_mode": {
    "name": "ipython",
    "version": 3
   },
   "file_extension": ".py",
   "mimetype": "text/x-python",
   "name": "python",
   "nbconvert_exporter": "python",
   "pygments_lexer": "ipython3",
   "version": "3.8.5"
  }
 },
 "nbformat": 4,
 "nbformat_minor": 4
}
